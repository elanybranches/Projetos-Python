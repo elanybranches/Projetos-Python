{
  "nbformat": 4,
  "nbformat_minor": 0,
  "metadata": {
    "colab": {
      "name": "classification_fruits.ipynb",
      "provenance": [],
      "include_colab_link": true
    },
    "kernelspec": {
      "name": "python3",
      "display_name": "Python 3"
    }
  },
  "cells": [
    {
      "cell_type": "markdown",
      "metadata": {
        "id": "view-in-github",
        "colab_type": "text"
      },
      "source": [
        "<a href=\"https://colab.research.google.com/github/elanypy/Projetos-Python/blob/master/classification_fruits.ipynb\" target=\"_parent\"><img src=\"https://colab.research.google.com/assets/colab-badge.svg\" alt=\"Open In Colab\"/></a>"
      ]
    },
    {
      "cell_type": "markdown",
      "metadata": {
        "id": "H-yZfs4h7rJp",
        "colab_type": "text"
      },
      "source": [
        "Exemplo de Machine Learning com a library Scikit Learn utilizando Tree\n"
      ]
    },
    {
      "cell_type": "code",
      "metadata": {
        "id": "aAL_AWvo7pSB",
        "colab_type": "code",
        "colab": {
          "base_uri": "https://localhost:8080/",
          "height": 67
        },
        "outputId": "478d491c-931c-40ed-8bbb-90486ec851e6"
      },
      "source": [
        "from sklearn import tree\n",
        "\n",
        "lisa = 1\n",
        "irregular = 0\n",
        "\n",
        "maca =1\n",
        "laranja =0\n",
        "\n",
        "pomar = [[120,lisa], [130, lisa], [125, lisa], [110, lisa], [135, lisa], [135,irregular], [140, irregular], [150,irregular], [136, irregular],[155, irregular]] #treino x\n",
        "\n",
        "resultado = [maca, maca, maca, maca, maca, laranja, laranja, laranja, laranja, laranja] #treino\n",
        "\n",
        "\n",
        "clf = tree.DecisionTreeClassifier()\n",
        "\n",
        "clf = clf.fit(pomar, resultado)\n",
        "\n",
        "peso = input(\"Entre com o peso da fruta: \")\n",
        "superficie = input(\"Entre com a superficie (lisa ou irregular): \")\n",
        "\n",
        "\n",
        "\n",
        "if superficie.lower() == 'lisa':\n",
        "  superficie = 1\n",
        "elif superficie.lower() == 'irregular':\n",
        "  superficie = 0\n",
        "else:\n",
        "  print (\"Superficie não encontrada!\")\n",
        "\n",
        "resultadoUser = clf.predict([[peso, superficie]])\n",
        "\n",
        "if resultadoUser ==1:\n",
        "  print (\"É mais provável ser uma maça\")\n",
        "elif resultadoUser ==0:\n",
        "  print (\"É mais provável ser uma laranja\")\n"
      ],
      "execution_count": 5,
      "outputs": [
        {
          "output_type": "stream",
          "text": [
            "Entre com o peso da fruta: 145\n",
            "Entre com a superficie (lisa ou irregular): irregular\n",
            "É mais provável ser uma laranja\n"
          ],
          "name": "stdout"
        }
      ]
    },
    {
      "cell_type": "code",
      "metadata": {
        "id": "eOWaq9ngIuq3",
        "colab_type": "code",
        "colab": {
          "base_uri": "https://localhost:8080/",
          "height": 34
        },
        "outputId": "1c191cfe-cee5-4bca-eeae-8e48e9c35439"
      },
      "source": [
        "#Renderizando gráfico da árvore de decisão \n",
        "import graphviz\n",
        "dot_data = tree.export_graphviz(clf,out_file=None)\n",
        "graph = graphviz.Source(dot_data)\n",
        "g = graph.render(\"Frutas\")\n",
        "g"
      ],
      "execution_count": 15,
      "outputs": [
        {
          "output_type": "execute_result",
          "data": {
            "text/plain": [
              "'Frutas.pdf'"
            ]
          },
          "metadata": {
            "tags": []
          },
          "execution_count": 15
        }
      ]
    }
  ]
}