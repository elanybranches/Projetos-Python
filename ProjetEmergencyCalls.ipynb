{
  "nbformat": 4,
  "nbformat_minor": 0,
  "metadata": {
    "colab": {
      "name": "ProjetEmergencyCalls.ipynb",
      "provenance": [],
      "private_outputs": true,
      "include_colab_link": true
    },
    "kernelspec": {
      "name": "python3",
      "display_name": "Python 3"
    }
  },
  "cells": [
    {
      "cell_type": "markdown",
      "metadata": {
        "id": "view-in-github",
        "colab_type": "text"
      },
      "source": [
        "<a href=\"https://colab.research.google.com/github/elanypy/Projetos-Python/blob/master/ProjetEmergencyCalls.ipynb\" target=\"_parent\"><img src=\"https://colab.research.google.com/assets/colab-badge.svg\" alt=\"Open In Colab\"/></a>"
      ]
    },
    {
      "cell_type": "code",
      "metadata": {
        "id": "j82L1hBdP198",
        "colab_type": "code",
        "colab": {}
      },
      "source": [
        "import pandas as pd\n",
        "import numpy as np\n",
        "import matplotlib.pyplot as plt \n",
        "import seaborn as sns\n",
        "\n",
        "%matplotlib inline \n",
        "\n"
      ],
      "execution_count": 0,
      "outputs": []
    },
    {
      "cell_type": "code",
      "metadata": {
        "id": "-RdtM0orS1BG",
        "colab_type": "code",
        "colab": {}
      },
      "source": [
        "url = \"https://raw.githubusercontent.com/elanypy/Arquivos/master/911.csv\"\n",
        "dados = pd.read_csv(url)"
      ],
      "execution_count": 0,
      "outputs": []
    },
    {
      "cell_type": "code",
      "metadata": {
        "id": "9RKRACpbS-QB",
        "colab_type": "code",
        "colab": {}
      },
      "source": [
        "dados.head()"
      ],
      "execution_count": 0,
      "outputs": []
    },
    {
      "cell_type": "markdown",
      "metadata": {
        "id": "a5WFirOXWdtV",
        "colab_type": "text"
      },
      "source": [
        "## ========   ** MANIPULAÇÃO DOS DADOS** ========"
      ]
    },
    {
      "cell_type": "markdown",
      "metadata": {
        "id": "zXs5BO1qTafI",
        "colab_type": "text"
      },
      "source": [
        "**Descrição das colunas:**\n",
        "\n",
        "*   lat: latitude\n",
        "*   lng: longitude\n",
        "*   desc: descrição da chamada\n",
        "*   zip: cep\n",
        "*   title: título\n",
        "*   timestamp: data e horário\n",
        "*   tw: township - município\n",
        "*   addr: endereço\n",
        "*   e: variável sempre 1 \n",
        "\n",
        "\n",
        "\n",
        "\n"
      ]
    },
    {
      "cell_type": "code",
      "metadata": {
        "id": "XuuD229wTF3x",
        "colab_type": "code",
        "colab": {}
      },
      "source": [
        "dados.head()"
      ],
      "execution_count": 0,
      "outputs": []
    },
    {
      "cell_type": "code",
      "metadata": {
        "id": "40wimO6GVoDP",
        "colab_type": "code",
        "colab": {}
      },
      "source": [
        "#IDENTIFICANDO OS TOP 5 CEPS NAS CHAMADAS 911\n",
        "\n",
        "dados.zip.value_counts().head(5)\n",
        "\n",
        "#Outra forma válida de chamar é: \n",
        "# dados['zip'].value_counts().head(5)"
      ],
      "execution_count": 0,
      "outputs": []
    },
    {
      "cell_type": "code",
      "metadata": {
        "id": "6TSm7tVoWM74",
        "colab_type": "code",
        "colab": {}
      },
      "source": [
        "#IDENTIFICANDO OS 05 PRINCIPAIS MUNICIPIOS NAS CHAMADAS 911\n",
        "\n",
        "dados.twp.value_counts().head(5)\n",
        "\n"
      ],
      "execution_count": 0,
      "outputs": []
    },
    {
      "cell_type": "code",
      "metadata": {
        "id": "ls_8NhxiXFPN",
        "colab_type": "code",
        "colab": {}
      },
      "source": [
        "#Quantos códigos de títulos exclusivos existem?\n",
        "\n",
        "\n",
        "#len(dados.title.unique()) #retorna o valor \n",
        "#ou \n",
        "dados.title.nunique()  #retorna o valor\n",
        "\n",
        "#dados.title.unique() #retorna a lista de títulos exclusivos\n",
        "\n",
        "\n"
      ],
      "execution_count": 0,
      "outputs": []
    },
    {
      "cell_type": "code",
      "metadata": {
        "id": "x0Y1vlUfYC72",
        "colab_type": "code",
        "colab": {}
      },
      "source": [
        "#Criar uma nova coluna chamada Reason para constar o tipo de emegencia que tem na coluna title.\n",
        "\n",
        "dados['Reason'] = dados.title.apply(lambda title: title.split(\":\")[0])\n",
        "\n"
      ],
      "execution_count": 0,
      "outputs": []
    },
    {
      "cell_type": "code",
      "metadata": {
        "id": "GMey5-ssNuEL",
        "colab_type": "code",
        "colab": {}
      },
      "source": [
        "dados.head()"
      ],
      "execution_count": 0,
      "outputs": []
    },
    {
      "cell_type": "code",
      "metadata": {
        "id": "6bi-W3mIgvw5",
        "colab_type": "code",
        "colab": {}
      },
      "source": [
        "#Motivo mais comum para uma chamada no 911\n",
        "\n",
        "dados.Reason.value_counts()"
      ],
      "execution_count": 0,
      "outputs": []
    },
    {
      "cell_type": "code",
      "metadata": {
        "id": "-tfoQq5thLrb",
        "colab_type": "code",
        "colab": {}
      },
      "source": [
        "#Utilizando o Seaborn , plotar gráfico referente no número de razões\n",
        "\n",
        "sns.countplot(x='Reason', data=dados)"
      ],
      "execution_count": 0,
      "outputs": []
    },
    {
      "cell_type": "code",
      "metadata": {
        "id": "L_V4Glg-kyZ4",
        "colab_type": "code",
        "colab": {}
      },
      "source": [
        "#Para converter a coluna timeStamps(string) para o tipo de objeto DateTime.\n",
        "\n",
        "dados.timeStamp = pd.to_datetime(dados.timeStamp)\n",
        "\n",
        "type(dados.timeStamp[0])"
      ],
      "execution_count": 0,
      "outputs": []
    },
    {
      "cell_type": "code",
      "metadata": {
        "id": "X8Sh6Aqe7cF6",
        "colab_type": "code",
        "colab": {}
      },
      "source": [
        "#Criar 3 novas colunas chamadas Hour, Month e Day of Week\n",
        "\n",
        "dados['Hour'] = dados.timeStamp.apply(lambda x: x.hour)\n",
        "dados['Month'] = dados.timeStamp.apply(lambda x: x.month)\n",
        "dados['Day of Week'] = dados.timeStamp.apply(lambda x: x.dayofweek)\n",
        "\n"
      ],
      "execution_count": 0,
      "outputs": []
    },
    {
      "cell_type": "code",
      "metadata": {
        "id": "f3QekjFg9S1m",
        "colab_type": "code",
        "colab": {}
      },
      "source": [
        "dados.head()"
      ],
      "execution_count": 0,
      "outputs": []
    },
    {
      "cell_type": "code",
      "metadata": {
        "id": "oL6gKPPs9YD6",
        "colab_type": "code",
        "colab": {}
      },
      "source": [
        "dados.Hour.value_counts().head(10)\n"
      ],
      "execution_count": 0,
      "outputs": []
    },
    {
      "cell_type": "code",
      "metadata": {
        "id": "7y6OMiXHCDzW",
        "colab_type": "code",
        "colab": {}
      },
      "source": [
        "#Usando .map() com dicionário abaixo para mapear a coluna Day of Week com os nomes das sequências reais para o dia da semana\n",
        "\n",
        "dmap ={0:'Mon', 1:'Tue', 2:'Wed', 3:'Thu', 4:'Fri', 5:'Sat', 6:'Sun'}\n",
        "\n",
        "dados['Day of Week'] = dados['Day of Week'].map(dmap)"
      ],
      "execution_count": 0,
      "outputs": []
    },
    {
      "cell_type": "code",
      "metadata": {
        "id": "EOBqduYzDGPZ",
        "colab_type": "code",
        "colab": {}
      },
      "source": [
        "dados['Day of Week'].head(100)"
      ],
      "execution_count": 0,
      "outputs": []
    },
    {
      "cell_type": "code",
      "metadata": {
        "id": "uYtFrQveN300",
        "colab_type": "code",
        "colab": {}
      },
      "source": [
        "#Plotar gráfico countplot com seaborn da relação do eixo de Day of Week cem função da coluna de Reason.\n",
        "\n",
        "sns.countplot(x='Day of Week', data=dados, hue='Reason')\n",
        "plt.legend(bbox_to_anchor=(1.05, 1), loc=2, borderaxespad=0.)  #ajusta a legenda para fora do gráfico"
      ],
      "execution_count": 0,
      "outputs": []
    },
    {
      "cell_type": "code",
      "metadata": {
        "id": "mRUIlqzTOcOs",
        "colab_type": "code",
        "colab": {}
      },
      "source": [
        "#Plotar gráfico countplot com seaborn da relação de Day of Weekcom em função da coluna Month\n",
        "\n",
        "\n",
        "sns.countplot(x='Month', data=dados,hue='Reason')"
      ],
      "execution_count": 0,
      "outputs": []
    },
    {
      "cell_type": "code",
      "metadata": {
        "id": "xCw-7fydRewS",
        "colab_type": "code",
        "colab": {}
      },
      "source": [
        "\n",
        "#Mapeando os dias do Mês pela palavra.\n",
        "\n",
        "dmapMonth = {1:'Jan', 2:'Feb', 3:'Mar',4:'Apr',5:'Ma',6:'Jun',7:'Jul',8:'Aug',9:'Sep', 10:'Oct',11:'Nov',12:'Dec'}\n",
        "dados['Month'] = dados['Month'].map(dmapMonth)"
      ],
      "execution_count": 0,
      "outputs": []
    },
    {
      "cell_type": "code",
      "metadata": {
        "id": "QWmSHqIaSwz6",
        "colab_type": "code",
        "colab": {}
      },
      "source": [
        "dados.Month"
      ],
      "execution_count": 0,
      "outputs": []
    },
    {
      "cell_type": "code",
      "metadata": {
        "id": "7bnqAeUVS7Z5",
        "colab_type": "code",
        "colab": {}
      },
      "source": [
        "sns.countplot(x='Month', data=dados,hue='Reason', palette='rocket')\n",
        "plt.legend(bbox_to_anchor=(1.05, 1), loc=2, borderaxespad=0.)  #ajusta a legenda para fora do gráfico"
      ],
      "execution_count": 0,
      "outputs": []
    },
    {
      "cell_type": "code",
      "metadata": {
        "id": "JSF23scWTAEf",
        "colab_type": "code",
        "colab": {}
      },
      "source": [
        "#Agrupa na variável byMonth a quantidade de vezes que a coluna Month (ou seja, cada mês) viu cada um dos elementos da tabela.\n",
        "\n",
        "byMonth = dados.groupby('Month').count()\n",
        "byMonth.head()"
      ],
      "execution_count": 0,
      "outputs": []
    },
    {
      "cell_type": "code",
      "metadata": {
        "id": "UP4Xb12SX5uv",
        "colab_type": "code",
        "colab": {}
      },
      "source": [
        "#Plot smples\n",
        "\n",
        "byMonth['Reason'].plot()"
      ],
      "execution_count": 0,
      "outputs": []
    },
    {
      "cell_type": "code",
      "metadata": {
        "id": "vXDIdBabYzzJ",
        "colab_type": "code",
        "colab": {}
      },
      "source": [
        ""
      ],
      "execution_count": 0,
      "outputs": []
    }
  ]
}